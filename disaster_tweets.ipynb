{
 "cells": [
  {
   "cell_type": "code",
   "execution_count": 1,
   "id": "0814dd14",
   "metadata": {},
   "outputs": [],
   "source": [
    "import torch\n",
    "from transformers import AutoTokenizer, AutoModelForSequenceClassification, Trainer, TrainingArguments\n",
    "from datasets import load_dataset\n",
    "from accelerate import Accelerator\n",
    "\n",
    "from sklearn.metrics import accuracy_score, f1_score, roc_auc_score, roc_curve, precision_recall_curve, confusion_matrix, average_precision_score\n",
    "from scipy.special import softmax\n",
    "\n",
    "import matplotlib.pyplot as plt\n",
    "import seaborn as sns\n",
    "\n",
    "import pandas as pd\n",
    "import numpy as np\n",
    "import re"
   ]
  },
  {
   "cell_type": "code",
   "execution_count": 2,
   "id": "5e8fb763",
   "metadata": {},
   "outputs": [],
   "source": [
    "model = \"roberta-large\""
   ]
  },
  {
   "cell_type": "code",
   "execution_count": 3,
   "id": "4a87df94",
   "metadata": {},
   "outputs": [],
   "source": [
    "accelerator = Accelerator()"
   ]
  },
  {
   "cell_type": "code",
   "execution_count": 4,
   "id": "dfaeb4b3",
   "metadata": {},
   "outputs": [],
   "source": [
    "tokenizer = AutoTokenizer.from_pretrained(model)"
   ]
  },
  {
   "cell_type": "code",
   "execution_count": 5,
   "id": "d30e1cf8",
   "metadata": {},
   "outputs": [
    {
     "name": "stderr",
     "output_type": "stream",
     "text": [
      "Some weights of the model checkpoint at roberta-large were not used when initializing RobertaForSequenceClassification: ['lm_head.dense.weight', 'roberta.pooler.dense.weight', 'lm_head.dense.bias', 'lm_head.bias', 'lm_head.layer_norm.bias', 'lm_head.decoder.weight', 'roberta.pooler.dense.bias', 'lm_head.layer_norm.weight']\n",
      "- This IS expected if you are initializing RobertaForSequenceClassification from the checkpoint of a model trained on another task or with another architecture (e.g. initializing a BertForSequenceClassification model from a BertForPreTraining model).\n",
      "- This IS NOT expected if you are initializing RobertaForSequenceClassification from the checkpoint of a model that you expect to be exactly identical (initializing a BertForSequenceClassification model from a BertForSequenceClassification model).\n",
      "Some weights of RobertaForSequenceClassification were not initialized from the model checkpoint at roberta-large and are newly initialized: ['classifier.out_proj.weight', 'classifier.dense.weight', 'classifier.dense.bias', 'classifier.out_proj.bias']\n",
      "You should probably TRAIN this model on a down-stream task to be able to use it for predictions and inference.\n"
     ]
    }
   ],
   "source": [
    "clf = AutoModelForSequenceClassification.from_pretrained(model, num_labels=2)"
   ]
  },
  {
   "cell_type": "code",
   "execution_count": 6,
   "id": "12fea67a",
   "metadata": {
    "scrolled": true
   },
   "outputs": [],
   "source": [
    "train_set = load_dataset(\"csv\", data_files=\"/media/storage/datasets/disaster_tweets/train.csv\", split='train[:90%]')\n",
    "val_set = load_dataset(\"csv\", data_files=\"/media/storage/datasets/disaster_tweets/train.csv\", split='train[-10%:]')\n",
    "test_set = load_dataset(\"csv\", data_files=\"/media/storage/datasets/disaster_tweets/test.csv\")"
   ]
  },
  {
   "cell_type": "code",
   "execution_count": 7,
   "id": "06af25ab",
   "metadata": {},
   "outputs": [],
   "source": [
    "def clean(batch):\n",
    "    clean_text = batch['text'].lower()\n",
    "    clean_text = ' '.join(re.sub(r\"https?:\\/\\/t.co\\/.{10}\",' ', clean_text).split())\n",
    "    clean_text = ' '.join(re.sub(r\"[^a-zA-Z '\\.,-;:!?#]\",' ', clean_text).split())\n",
    "    return {\"clean_text\": clean_text}"
   ]
  },
  {
   "cell_type": "code",
   "execution_count": 8,
   "id": "eea6139e",
   "metadata": {
    "scrolled": true
   },
   "outputs": [],
   "source": [
    "train_set = train_set.map(clean, batched=False, batch_size=64)\n",
    "val_set = val_set.map(clean, batched=False, batch_size=64)\n",
    "test_set = test_set.map(clean, batched=False, batch_size=64)"
   ]
  },
  {
   "cell_type": "code",
   "execution_count": 9,
   "id": "822fbcc1",
   "metadata": {},
   "outputs": [],
   "source": [
    "def tokenize(batch):\n",
    "    return tokenizer(batch[\"clean_text\"], padding=True, truncation=True)"
   ]
  },
  {
   "cell_type": "code",
   "execution_count": 10,
   "id": "54bc5539",
   "metadata": {},
   "outputs": [],
   "source": [
    "train_encoded = train_set.map(tokenize, batched=True, batch_size=64)\n",
    "val_encoded = val_set.map(tokenize, batched=True, batch_size=64)\n",
    "test_encoded = test_set.map(tokenize, batched=True, batch_size=64)"
   ]
  },
  {
   "cell_type": "code",
   "execution_count": 11,
   "id": "037d3c15",
   "metadata": {},
   "outputs": [],
   "source": [
    "train_encoded = train_encoded.rename_column(\"target\", \"labels\")\n",
    "val_encoded = val_encoded.rename_column(\"target\", \"labels\")"
   ]
  },
  {
   "cell_type": "code",
   "execution_count": 12,
   "id": "c5e4ea61",
   "metadata": {},
   "outputs": [],
   "source": [
    "clf, train_encoded, val_encoded, test_encoded = accelerator.prepare(clf, train_encoded, val_encoded, test_encoded)"
   ]
  },
  {
   "cell_type": "code",
   "execution_count": 13,
   "id": "201167f0",
   "metadata": {},
   "outputs": [],
   "source": [
    "def compute_metrics(pred):\n",
    "    labels = pred.label_ids\n",
    "    preds = pred.predictions.argmax(-1)\n",
    "    f1 = f1_score(labels, preds)\n",
    "    acc = accuracy_score(labels, preds)\n",
    "    return {\"accuracy\": acc, \"f1\": f1}"
   ]
  },
  {
   "cell_type": "code",
   "execution_count": 14,
   "id": "db9db19c",
   "metadata": {},
   "outputs": [],
   "source": [
    "batch_size = 8\n",
    "logging_steps = len(train_set) // batch_size\n",
    "training_args = TrainingArguments(\n",
    "                                    output_dir='nlp_model',\n",
    "                                    num_train_epochs=10,\n",
    "                                    learning_rate=1e-6,\n",
    "                                    per_device_train_batch_size=batch_size,\n",
    "                                    per_device_eval_batch_size=batch_size,\n",
    "                                    optim=\"adamw_torch\",\n",
    "                                    weight_decay=5e-7,\n",
    "                                    lr_scheduler_type='cosine',\n",
    "                                    evaluation_strategy=\"epoch\",\n",
    "                                    save_strategy=\"epoch\",\n",
    "                                    disable_tqdm=False,\n",
    "                                    logging_steps=logging_steps,\n",
    "                                    push_to_hub=False,\n",
    "                                    log_level=\"error\",\n",
    "                                    seed=177013,\n",
    "                                    load_best_model_at_end=True,\n",
    "                                    metric_for_best_model='f1',\n",
    "                                  )"
   ]
  },
  {
   "cell_type": "code",
   "execution_count": 15,
   "id": "f029df4e",
   "metadata": {},
   "outputs": [],
   "source": [
    "trainer = Trainer(\n",
    "                    model=clf,\n",
    "                    args=training_args,\n",
    "                    compute_metrics=compute_metrics,\n",
    "                    train_dataset=train_encoded,\n",
    "                    eval_dataset=val_encoded,\n",
    "                    tokenizer=tokenizer\n",
    "                 )"
   ]
  },
  {
   "cell_type": "code",
   "execution_count": 16,
   "id": "6ffe28c8",
   "metadata": {
    "scrolled": false
   },
   "outputs": [
    {
     "name": "stderr",
     "output_type": "stream",
     "text": [
      "\u001b[34m\u001b[1mwandb\u001b[0m: Currently logged in as: \u001b[33mdx2-66\u001b[0m (\u001b[33mteam_fairies\u001b[0m). Use \u001b[1m`wandb login --relogin`\u001b[0m to force relogin\n"
     ]
    },
    {
     "data": {
      "text/html": [
       "Tracking run with wandb version 0.12.21"
      ],
      "text/plain": [
       "<IPython.core.display.HTML object>"
      ]
     },
     "metadata": {},
     "output_type": "display_data"
    },
    {
     "data": {
      "text/html": [
       "Run data is saved locally in <code>/home/daiyousei/wandb/run-20220728_104715-1sgiv0sw</code>"
      ],
      "text/plain": [
       "<IPython.core.display.HTML object>"
      ]
     },
     "metadata": {},
     "output_type": "display_data"
    },
    {
     "data": {
      "text/html": [
       "Syncing run <strong><a href=\"https://wandb.ai/team_fairies/huggingface/runs/1sgiv0sw\" target=\"_blank\">nlp_model</a></strong> to <a href=\"https://wandb.ai/team_fairies/huggingface\" target=\"_blank\">Weights & Biases</a> (<a href=\"https://wandb.me/run\" target=\"_blank\">docs</a>)<br/>"
      ],
      "text/plain": [
       "<IPython.core.display.HTML object>"
      ]
     },
     "metadata": {},
     "output_type": "display_data"
    },
    {
     "data": {
      "text/html": [
       "\n",
       "    <div>\n",
       "      \n",
       "      <progress value='8570' max='8570' style='width:300px; height:20px; vertical-align: middle;'></progress>\n",
       "      [8570/8570 1:01:24, Epoch 10/10]\n",
       "    </div>\n",
       "    <table border=\"1\" class=\"dataframe\">\n",
       "  <thead>\n",
       " <tr style=\"text-align: left;\">\n",
       "      <th>Epoch</th>\n",
       "      <th>Training Loss</th>\n",
       "      <th>Validation Loss</th>\n",
       "      <th>Accuracy</th>\n",
       "      <th>F1</th>\n",
       "    </tr>\n",
       "  </thead>\n",
       "  <tbody>\n",
       "    <tr>\n",
       "      <td>1</td>\n",
       "      <td>0.550800</td>\n",
       "      <td>0.354723</td>\n",
       "      <td>0.862024</td>\n",
       "      <td>0.842105</td>\n",
       "    </tr>\n",
       "    <tr>\n",
       "      <td>2</td>\n",
       "      <td>0.404700</td>\n",
       "      <td>0.382563</td>\n",
       "      <td>0.855453</td>\n",
       "      <td>0.842857</td>\n",
       "    </tr>\n",
       "    <tr>\n",
       "      <td>3</td>\n",
       "      <td>0.385900</td>\n",
       "      <td>0.387452</td>\n",
       "      <td>0.864652</td>\n",
       "      <td>0.845577</td>\n",
       "    </tr>\n",
       "    <tr>\n",
       "      <td>4</td>\n",
       "      <td>0.366800</td>\n",
       "      <td>0.467433</td>\n",
       "      <td>0.850197</td>\n",
       "      <td>0.838983</td>\n",
       "    </tr>\n",
       "    <tr>\n",
       "      <td>5</td>\n",
       "      <td>0.352600</td>\n",
       "      <td>0.482151</td>\n",
       "      <td>0.860710</td>\n",
       "      <td>0.846377</td>\n",
       "    </tr>\n",
       "    <tr>\n",
       "      <td>6</td>\n",
       "      <td>0.348300</td>\n",
       "      <td>0.465411</td>\n",
       "      <td>0.863338</td>\n",
       "      <td>0.849275</td>\n",
       "    </tr>\n",
       "    <tr>\n",
       "      <td>7</td>\n",
       "      <td>0.337500</td>\n",
       "      <td>0.528196</td>\n",
       "      <td>0.858081</td>\n",
       "      <td>0.844828</td>\n",
       "    </tr>\n",
       "    <tr>\n",
       "      <td>8</td>\n",
       "      <td>0.361200</td>\n",
       "      <td>0.518810</td>\n",
       "      <td>0.862024</td>\n",
       "      <td>0.848485</td>\n",
       "    </tr>\n",
       "    <tr>\n",
       "      <td>9</td>\n",
       "      <td>0.335600</td>\n",
       "      <td>0.548720</td>\n",
       "      <td>0.858081</td>\n",
       "      <td>0.844828</td>\n",
       "    </tr>\n",
       "    <tr>\n",
       "      <td>10</td>\n",
       "      <td>0.342300</td>\n",
       "      <td>0.552600</td>\n",
       "      <td>0.858081</td>\n",
       "      <td>0.844828</td>\n",
       "    </tr>\n",
       "  </tbody>\n",
       "</table><p>"
      ],
      "text/plain": [
       "<IPython.core.display.HTML object>"
      ]
     },
     "metadata": {},
     "output_type": "display_data"
    }
   ],
   "source": [
    "trainer.train();"
   ]
  },
  {
   "cell_type": "code",
   "execution_count": 17,
   "id": "d2b88575",
   "metadata": {},
   "outputs": [
    {
     "data": {
      "text/html": [
       "\n",
       "    <div>\n",
       "      \n",
       "      <progress value='504' max='96' style='width:300px; height:20px; vertical-align: middle;'></progress>\n",
       "      [96/96 00:30]\n",
       "    </div>\n",
       "    "
      ],
      "text/plain": [
       "<IPython.core.display.HTML object>"
      ]
     },
     "metadata": {},
     "output_type": "display_data"
    }
   ],
   "source": [
    "preds = trainer.predict(val_encoded)"
   ]
  },
  {
   "cell_type": "code",
   "execution_count": 18,
   "id": "f120a57d",
   "metadata": {},
   "outputs": [],
   "source": [
    "target_test = val_encoded['labels']"
   ]
  },
  {
   "cell_type": "code",
   "execution_count": 19,
   "id": "92f9e390",
   "metadata": {},
   "outputs": [],
   "source": [
    "def calculate_metrics(probs):\n",
    "    predictions = probs > 0.5\n",
    "    probabilities = probs\n",
    "    f1 = f1_score(target_test, predictions)\n",
    "    roc_auc = roc_auc_score(target_test, probabilities)\n",
    "    acc = accuracy_score(target_test, predictions)\n",
    "    ap = average_precision_score(target_test, probabilities)\n",
    "    cmatrix = confusion_matrix(target_test, predictions)\n",
    "    \n",
    "    fpr, tpr, _ = roc_curve(target_test, probabilities)\n",
    "    precision, recall, thresholds = precision_recall_curve(target_test, probabilities)\n",
    "    f1_scores = 2*recall*precision/(recall+precision)\n",
    "    best_f1 = np.max(f1_scores)\n",
    "    best_thresh = thresholds[np.argmax (f1_scores)]\n",
    "\n",
    "    pred_t = (probabilities > best_thresh)\n",
    "    best_cmatrix = confusion_matrix(target_test, pred_t)\n",
    "    \n",
    "    return f1, best_f1, roc_auc, acc, ap, best_thresh, fpr, tpr, recall, precision, cmatrix, best_cmatrix\n",
    "\n",
    "def visualize_tests(probs):\n",
    "    cmatrices = []\n",
    "\n",
    "    fig, axes = plt.subplots(1, 2, figsize=(15,6))\n",
    "    axes[0].plot([0, 1], linestyle='--')\n",
    "    axes[1].plot([0.5, 0.5], linestyle='--')\n",
    "\n",
    "    name = type(clf).__name__\n",
    "    print('Evaluating, please wait warmly...')\n",
    "    f1, best_f1, roc_auc, acc, ap, best_thresh, fpr, tpr, recall, precision, cmatrix, best_cmatrix = calculate_metrics (probs)\n",
    "    axes[0].plot (fpr, tpr);\n",
    "    axes[1].plot (recall, precision);\n",
    "    print (f'{name}: F1: {f1:.2f} (max: {best_f1:.2f} at {best_thresh:.2f} threshold), ROC_AUC: {roc_auc:.2f}, accuracy: {acc:.0%}, AP (PR_AUC): {ap:.2f}')\n",
    "    cmatrices.append(cmatrix)\n",
    "    cmatrices.append(best_cmatrix)\n",
    "    \n",
    "    axes[0].set (xlabel = 'FPR', ylabel = 'TPR', title = 'ROC curve', xlim=(0,1), ylim=(0,1))\n",
    "    axes[1].set (xlabel = 'Recall', ylabel = 'Precision', title = 'PR curve', xlim=(0,1), ylim=(0,1))\n",
    "    \n",
    "    fig, axes = plt.subplots(1, 2, figsize=(13, 5), constrained_layout=True)\n",
    "    for cmatrix, ax, title in zip(cmatrices, axes.flat, ['Consusion matrix', 'Consusion matrix (optimal threshold)']):\n",
    "        sns.heatmap(cmatrix, annot=True, cmap='Blues', fmt='d', ax=ax).set(title=title, xlabel='Prediction', ylabel='Reality')\n",
    "    \n",
    "    return best_thresh"
   ]
  },
  {
   "cell_type": "code",
   "execution_count": 20,
   "id": "f080a597",
   "metadata": {},
   "outputs": [
    {
     "name": "stdout",
     "output_type": "stream",
     "text": [
      "Evaluating, please wait warmly...\n",
      "RobertaForSequenceClassification: F1: 0.85 (max: 0.85 at 0.61 threshold), ROC_AUC: 0.91, accuracy: 86%, AP (PR_AUC): 0.92\n"
     ]
    },
    {
     "data": {
      "image/png": "[encoded data removed]",
      "text/plain": [
       "<Figure size 1080x432 with 2 Axes>"
      ]
     },
     "metadata": {
      "needs_background": "light"
     },
     "output_type": "display_data"
    },
    {
     "data": {
      "image/png": "[encoded data removed]",
      "text/plain": [
       "<Figure size 936x360 with 4 Axes>"
      ]
     },
     "metadata": {
      "needs_background": "light"
     },
     "output_type": "display_data"
    }
   ],
   "source": [
    "best_threshold = visualize_tests(softmax(preds.predictions, axis=1)[:,1])"
   ]
  },
  {
   "cell_type": "code",
   "execution_count": 21,
   "id": "635ca36d",
   "metadata": {},
   "outputs": [],
   "source": [
    "preds = trainer.predict(test_encoded['train'])"
   ]
  },
  {
   "cell_type": "code",
   "execution_count": 22,
   "id": "fdbb6894",
   "metadata": {},
   "outputs": [],
   "source": [
    "score = softmax(preds.predictions, axis=1)[:,1]"
   ]
  },
  {
   "cell_type": "code",
   "execution_count": 23,
   "id": "bc16a33e",
   "metadata": {},
   "outputs": [],
   "source": [
    "result = pd.DataFrame({'id':test_set['train']['id'], 'target': (score > best_threshold).astype('int')})"
   ]
  },
  {
   "cell_type": "code",
   "execution_count": 24,
   "id": "d5444cbc",
   "metadata": {},
   "outputs": [],
   "source": [
    "result = result.set_index('id')"
   ]
  },
  {
   "cell_type": "code",
   "execution_count": 25,
   "id": "071ce97b",
   "metadata": {},
   "outputs": [],
   "source": [
    "result.to_csv('sample_submission.csv')"
   ]
  }
 ],
 "metadata": {
  "kernelspec": {
   "display_name": "Python 3 (ipykernel)",
   "language": "python",
   "name": "python3"
  },
  "language_info": {
   "codemirror_mode": {
    "name": "ipython",
    "version": 3
   },
   "file_extension": ".py",
   "mimetype": "text/x-python",
   "name": "python",
   "nbconvert_exporter": "python",
   "pygments_lexer": "ipython3",
   "version": "3.10.5"
  }
 },
 "nbformat": 4,
 "nbformat_minor": 5
}
